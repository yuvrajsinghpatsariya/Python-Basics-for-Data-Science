{
 "cells": [
  {
   "cell_type": "code",
   "execution_count": 56,
   "metadata": {},
   "outputs": [
    {
     "name": "stdout",
     "output_type": "stream",
     "text": [
      "('hello', 12, 2.3)\n",
      "3\n"
     ]
    }
   ],
   "source": [
    "#Tuples\n",
    "#Tuples are order insequence \n",
    "#Tuples are written in comma -sperated with praentheses \n",
    "#Tuples are declare inside the curly brakect\n",
    "#Type of tuple is tuple\n",
    "#For example\n",
    "t = (\"hello\",12,2.3)\n",
    "print(t)\n",
    "print(len(t))"
   ]
  },
  {
   "cell_type": "code",
   "execution_count": 2,
   "metadata": {},
   "outputs": [
    {
     "data": {
      "text/plain": [
       "tuple"
      ]
     },
     "execution_count": 2,
     "metadata": {},
     "output_type": "execute_result"
    }
   ],
   "source": [
    "type(t)"
   ]
  },
  {
   "cell_type": "code",
   "execution_count": 3,
   "metadata": {},
   "outputs": [
    {
     "name": "stdout",
     "output_type": "stream",
     "text": [
      "hello\n"
     ]
    }
   ],
   "source": [
    "#the relational between the index and element of tuples\n",
    "#For example\n",
    "t = (\"hello\",14,1.2)\n",
    "print(t[0])"
   ]
  },
  {
   "cell_type": "code",
   "execution_count": 6,
   "metadata": {},
   "outputs": [
    {
     "name": "stdout",
     "output_type": "stream",
     "text": [
      "1.2\n"
     ]
    }
   ],
   "source": [
    "print(t[2])"
   ]
  },
  {
   "cell_type": "code",
   "execution_count": 11,
   "metadata": {},
   "outputs": [
    {
     "name": "stdout",
     "output_type": "stream",
     "text": [
      "1.2\n",
      "14\n",
      "hello\n"
     ]
    }
   ],
   "source": [
    "#We known in python indexing can be done in negaive\n",
    "print(t[-1])\n",
    "print(t[-2])\n",
    "print(t[-3])"
   ]
  },
  {
   "cell_type": "code",
   "execution_count": 12,
   "metadata": {},
   "outputs": [
    {
     "name": "stdout",
     "output_type": "stream",
     "text": [
      "('hello', 10, 2.4, 'rock', 25)\n"
     ]
    }
   ],
   "source": [
    "#We can concatinate tuple \n",
    "#For example\n",
    "t = (\"hello\",10,2.4)\n",
    "t2 = t + (\"rock\",25)\n",
    "print(t2)"
   ]
  },
  {
   "cell_type": "code",
   "execution_count": 17,
   "metadata": {},
   "outputs": [
    {
     "name": "stdout",
     "output_type": "stream",
     "text": [
      "('hello', 12)\n"
     ]
    }
   ],
   "source": [
    "#We can do slicing tuples\n",
    "#For example\n",
    "t=(\"hello\",12,4.5)\n",
    "print(t[0:2])"
   ]
  },
  {
   "cell_type": "code",
   "execution_count": 20,
   "metadata": {},
   "outputs": [
    {
     "name": "stdout",
     "output_type": "stream",
     "text": [
      "[1, 2, 3, 4, 6, 7, 8, 9]\n"
     ]
    }
   ],
   "source": [
    "#Tuples are immutable means once a tuple defijne so, it can't be changed\n",
    "#We can do sort of tuple by using sort()\n",
    "#For example\n",
    "t=(2,3,8,1,9,6,4,7,)\n",
    "#t1=sorted(t)\n",
    "print(sorted(t))"
   ]
  },
  {
   "cell_type": "code",
   "execution_count": 34,
   "metadata": {},
   "outputs": [
    {
     "name": "stdout",
     "output_type": "stream",
     "text": [
      "1\n",
      "2\n",
      "pop\n",
      "rock\n",
      "2\n",
      "1\n",
      "4\n",
      "('rock', 1)\n",
      "rock\n",
      "1\n"
     ]
    }
   ],
   "source": [
    "#Nested tuples\n",
    "#Tuples can be contain other tuples as well complex datatype is called nesting\n",
    "#For example\n",
    "t=(1,2,(\"pop\",\"rock\"),(2,1),(4,(\"rock\",1)))\n",
    "print(t[0])\n",
    "print(t[1])\n",
    "print(t[2][0])\n",
    "print(t[2][1])\n",
    "print(t[3][0])\n",
    "print(t[3][1])\n",
    "print(t[4][0])\n",
    "print(t[4][1])\n",
    "print(t[4][1][0])\n",
    "print(t[4][1][1])"
   ]
  },
  {
   "cell_type": "code",
   "execution_count": 38,
   "metadata": {},
   "outputs": [
    {
     "name": "stdout",
     "output_type": "stream",
     "text": [
      "['hello', 1, 2.3]\n",
      "hello\n",
      "1\n",
      "2.3\n"
     ]
    }
   ],
   "source": [
    "#List re also order sequence \n",
    "# It is represent square bracket \n",
    "#list can be mutable\n",
    "#We can also do nested tuple in list\n",
    "#We can also do nested list contain float , integer, string\n",
    "#It can be accessedas indexing\n",
    "#For example\n",
    "l=[\"hello\",1,2.3]\n",
    "print(l)\n",
    "print(l[0])\n",
    "print(l[1])\n",
    "print(l[2])"
   ]
  },
  {
   "cell_type": "code",
   "execution_count": 40,
   "metadata": {},
   "outputs": [
    {
     "name": "stdout",
     "output_type": "stream",
     "text": [
      "['hello', 2, ('pop', 2.1), 14.3]\n",
      "hello\n",
      "2\n",
      "('pop', 2.1)\n",
      "pop\n",
      "2.1\n",
      "14.3\n"
     ]
    }
   ],
   "source": [
    "l=[\"hello\",2,(\"pop\",2.1),14.3]\n",
    "print(l)\n",
    "print(l[0])\n",
    "print(l[1])\n",
    "print(l[2])\n",
    "print(l[2][0])\n",
    "print(l[2][1])\n",
    "print(l[3])"
   ]
  },
  {
   "cell_type": "raw",
   "metadata": {},
   "source": [
    "#Slicing a list \n",
    "#For example\n",
    "l=[\"hello\",101,10.2]\n",
    "print(l[0:3:2])"
   ]
  },
  {
   "cell_type": "code",
   "execution_count": 42,
   "metadata": {},
   "outputs": [
    {
     "name": "stdout",
     "output_type": "stream",
     "text": [
      "['hello', 101, 2.3, 'rock', 404]\n"
     ]
    }
   ],
   "source": [
    "#Concatinate a list \n",
    "#For example\n",
    "l=[\"hello\",101,2.3]\n",
    "l2=l+[\"rock\",404]\n",
    "print(l2)"
   ]
  },
  {
   "cell_type": "code",
   "execution_count": 51,
   "metadata": {},
   "outputs": [
    {
     "name": "stdout",
     "output_type": "stream",
     "text": [
      "['hello', 101, 2.3, 'pop', 370, ['rock', 202]]\n"
     ]
    }
   ],
   "source": [
    "#We know that list can be mutable or can be modified or add\n",
    "#list can be extende by using \"extend or\"append\"\n",
    "#For example\n",
    "l=[\"hello\",101,2.3]\n",
    "l.extend([\"pop\",370])\n",
    "l.append([\"rock\",202])\n",
    "print(l)"
   ]
  },
  {
   "cell_type": "code",
   "execution_count": 52,
   "metadata": {},
   "outputs": [
    {
     "name": "stdout",
     "output_type": "stream",
     "text": [
      "['hard pop', 21, 45.3, 'rock']\n"
     ]
    }
   ],
   "source": [
    "#List value can be change by using index\n",
    "#For example\n",
    "l=[\"hello\",21,2.36,'rock']\n",
    "l[0]=\"hard pop\"\n",
    "l[2]=45.3\n",
    "print(l)"
   ]
  },
  {
   "cell_type": "code",
   "execution_count": 53,
   "metadata": {},
   "outputs": [
    {
     "name": "stdout",
     "output_type": "stream",
     "text": [
      "['hello', 21, 2.36]\n"
     ]
    }
   ],
   "source": [
    "#Delete a List using \"del\"\n",
    "#For example\n",
    "l=[\"hello\",21,2.36,'rock']\n",
    "del(l[3])\n",
    "print(l)"
   ]
  },
  {
   "cell_type": "code",
   "execution_count": 57,
   "metadata": {},
   "outputs": [
    {
     "name": "stdout",
     "output_type": "stream",
     "text": [
      "['hello', 'world']\n"
     ]
    }
   ],
   "source": [
    "#Convert String into a list  to using \"Split\"\n",
    "#For example\n",
    "l=\"hello world\".split()\n",
    "print(l)"
   ]
  },
  {
   "cell_type": "code",
   "execution_count": 61,
   "metadata": {},
   "outputs": [
    {
     "name": "stdout",
     "output_type": "stream",
     "text": [
      "['uv', 'hello', 'world', 'python']\n"
     ]
    }
   ],
   "source": [
    "l=\"uv,hello,world,python\".split(\",\")\n",
    "print(l)"
   ]
  },
  {
   "cell_type": "code",
   "execution_count": 62,
   "metadata": {},
   "outputs": [
    {
     "name": "stdout",
     "output_type": "stream",
     "text": [
      "['hello', 21, 2.36, 'rock']\n"
     ]
    }
   ],
   "source": [
    "#listing aliasing \n",
    "#When we set one variable \"B\" equal to \"A\", both \"A&B\" are reference same list.\n",
    "#For example\n",
    "A=[\"hello\",21,2.36,'rock']\n",
    "B=A\n",
    "print(B)"
   ]
  },
  {
   "cell_type": "code",
   "execution_count": 63,
   "metadata": {},
   "outputs": [
    {
     "name": "stdout",
     "output_type": "stream",
     "text": [
      "['hello', 21, 2.36, 'pop & pop']\n"
     ]
    }
   ],
   "source": [
    "#let suppose if we change in \"A\" one element so effect also in \"B\"\n",
    "#For example\n",
    "A=[\"hello\",21,2.36,'rock']\n",
    "B=A\n",
    "A[3]=\"pop & pop\"\n",
    "print(B)"
   ]
  },
  {
   "cell_type": "code",
   "execution_count": 64,
   "metadata": {},
   "outputs": [
    {
     "name": "stdout",
     "output_type": "stream",
     "text": [
      "['hello', 21, 2.36, 'pop & pop'] ['hello', 21, 2.36, 'rock']\n"
     ]
    }
   ],
   "source": [
    "#if we change in \"A\" one element so does not effect also in \"B\" with the help of [:]\n",
    "#For example\n",
    "A=[\"hello\",21,2.36,'rock']\n",
    "B=A[:]\n",
    "A[3]=\"pop & pop\"\n",
    "print(A,B)"
   ]
  },
  {
   "cell_type": "code",
   "execution_count": 65,
   "metadata": {},
   "outputs": [
    {
     "name": "stdout",
     "output_type": "stream",
     "text": [
      "Help on list object:\n",
      "\n",
      "class list(object)\n",
      " |  list(iterable=(), /)\n",
      " |  \n",
      " |  Built-in mutable sequence.\n",
      " |  \n",
      " |  If no argument is given, the constructor creates a new empty list.\n",
      " |  The argument must be an iterable if specified.\n",
      " |  \n",
      " |  Methods defined here:\n",
      " |  \n",
      " |  __add__(self, value, /)\n",
      " |      Return self+value.\n",
      " |  \n",
      " |  __contains__(self, key, /)\n",
      " |      Return key in self.\n",
      " |  \n",
      " |  __delitem__(self, key, /)\n",
      " |      Delete self[key].\n",
      " |  \n",
      " |  __eq__(self, value, /)\n",
      " |      Return self==value.\n",
      " |  \n",
      " |  __ge__(self, value, /)\n",
      " |      Return self>=value.\n",
      " |  \n",
      " |  __getattribute__(self, name, /)\n",
      " |      Return getattr(self, name).\n",
      " |  \n",
      " |  __getitem__(...)\n",
      " |      x.__getitem__(y) <==> x[y]\n",
      " |  \n",
      " |  __gt__(self, value, /)\n",
      " |      Return self>value.\n",
      " |  \n",
      " |  __iadd__(self, value, /)\n",
      " |      Implement self+=value.\n",
      " |  \n",
      " |  __imul__(self, value, /)\n",
      " |      Implement self*=value.\n",
      " |  \n",
      " |  __init__(self, /, *args, **kwargs)\n",
      " |      Initialize self.  See help(type(self)) for accurate signature.\n",
      " |  \n",
      " |  __iter__(self, /)\n",
      " |      Implement iter(self).\n",
      " |  \n",
      " |  __le__(self, value, /)\n",
      " |      Return self<=value.\n",
      " |  \n",
      " |  __len__(self, /)\n",
      " |      Return len(self).\n",
      " |  \n",
      " |  __lt__(self, value, /)\n",
      " |      Return self<value.\n",
      " |  \n",
      " |  __mul__(self, value, /)\n",
      " |      Return self*value.\n",
      " |  \n",
      " |  __ne__(self, value, /)\n",
      " |      Return self!=value.\n",
      " |  \n",
      " |  __repr__(self, /)\n",
      " |      Return repr(self).\n",
      " |  \n",
      " |  __reversed__(self, /)\n",
      " |      Return a reverse iterator over the list.\n",
      " |  \n",
      " |  __rmul__(self, value, /)\n",
      " |      Return value*self.\n",
      " |  \n",
      " |  __setitem__(self, key, value, /)\n",
      " |      Set self[key] to value.\n",
      " |  \n",
      " |  __sizeof__(self, /)\n",
      " |      Return the size of the list in memory, in bytes.\n",
      " |  \n",
      " |  append(self, object, /)\n",
      " |      Append object to the end of the list.\n",
      " |  \n",
      " |  clear(self, /)\n",
      " |      Remove all items from list.\n",
      " |  \n",
      " |  copy(self, /)\n",
      " |      Return a shallow copy of the list.\n",
      " |  \n",
      " |  count(self, value, /)\n",
      " |      Return number of occurrences of value.\n",
      " |  \n",
      " |  extend(self, iterable, /)\n",
      " |      Extend list by appending elements from the iterable.\n",
      " |  \n",
      " |  index(self, value, start=0, stop=9223372036854775807, /)\n",
      " |      Return first index of value.\n",
      " |      \n",
      " |      Raises ValueError if the value is not present.\n",
      " |  \n",
      " |  insert(self, index, object, /)\n",
      " |      Insert object before index.\n",
      " |  \n",
      " |  pop(self, index=-1, /)\n",
      " |      Remove and return item at index (default last).\n",
      " |      \n",
      " |      Raises IndexError if list is empty or index is out of range.\n",
      " |  \n",
      " |  remove(self, value, /)\n",
      " |      Remove first occurrence of value.\n",
      " |      \n",
      " |      Raises ValueError if the value is not present.\n",
      " |  \n",
      " |  reverse(self, /)\n",
      " |      Reverse *IN PLACE*.\n",
      " |  \n",
      " |  sort(self, /, *, key=None, reverse=False)\n",
      " |      Stable sort *IN PLACE*.\n",
      " |  \n",
      " |  ----------------------------------------------------------------------\n",
      " |  Static methods defined here:\n",
      " |  \n",
      " |  __new__(*args, **kwargs) from builtins.type\n",
      " |      Create and return a new object.  See help(type) for accurate signature.\n",
      " |  \n",
      " |  ----------------------------------------------------------------------\n",
      " |  Data and other attributes defined here:\n",
      " |  \n",
      " |  __hash__ = None\n",
      "\n",
      "None\n"
     ]
    }
   ],
   "source": [
    "print(help(A))"
   ]
  },
  {
   "cell_type": "code",
   "execution_count": null,
   "metadata": {},
   "outputs": [],
   "source": []
  }
 ],
 "metadata": {
  "kernelspec": {
   "display_name": "Python 3",
   "language": "python",
   "name": "python3"
  },
  "language_info": {
   "codemirror_mode": {
    "name": "ipython",
    "version": 3
   },
   "file_extension": ".py",
   "mimetype": "text/x-python",
   "name": "python",
   "nbconvert_exporter": "python",
   "pygments_lexer": "ipython3",
   "version": "3.7.6"
  }
 },
 "nbformat": 4,
 "nbformat_minor": 4
}
