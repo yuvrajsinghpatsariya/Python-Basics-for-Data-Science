{
 "cells": [
  {
   "cell_type": "code",
   "execution_count": 1,
   "metadata": {},
   "outputs": [
    {
     "name": "stdout",
     "output_type": "stream",
     "text": [
      "{'Yuvraj', 'AC/DC', 'Thriller'}\n"
     ]
    }
   ],
   "source": [
    "#Set are type of collecttio(this means that like list and tuples you can input different python type)\n",
    "#Unlike list and tuple are unordered(this mean set doesn't record element position)\n",
    "#Set only have unique elemnet(only one particular element in set)\n",
    "#define a set \"curly braces\" \"{}\"\n",
    "#for example\n",
    "set = {\"Yuvraj\",\"AC/DC\",\"Thriller\"}\n",
    "print(set)"
   ]
  },
  {
   "cell_type": "code",
   "execution_count": 2,
   "metadata": {},
   "outputs": [
    {
     "name": "stdout",
     "output_type": "stream",
     "text": [
      "{'Yuvraj', 'AC/DC', 'Thriller'}\n"
     ]
    }
   ],
   "source": [
    "#In your set their is duplicate item but in actual set their no dupliation\n",
    "#For example\n",
    "set = {\"Yuvraj\",\"AC/DC\",\"Thriller\",\"Yuvraj\",\"AC/DC\"}\n",
    "print(set)"
   ]
  },
  {
   "cell_type": "code",
   "execution_count": 17,
   "metadata": {},
   "outputs": [
    {
     "ename": "TypeError",
     "evalue": "'set' object is not callable",
     "output_type": "error",
     "traceback": [
      "\u001b[1;31m---------------------------------------------------------------------------\u001b[0m",
      "\u001b[1;31mTypeError\u001b[0m                                 Traceback (most recent call last)",
      "\u001b[1;32m<ipython-input-17-757b1f5562e3>\u001b[0m in \u001b[0;36m<module>\u001b[1;34m\u001b[0m\n\u001b[0;32m      1\u001b[0m \u001b[1;31m#you can covert list into set by using method fuction \"set()\", this is called type casting\u001b[0m\u001b[1;33m\u001b[0m\u001b[1;33m\u001b[0m\u001b[1;33m\u001b[0m\u001b[0m\n\u001b[0;32m      2\u001b[0m \u001b[1;31m#For example\u001b[0m\u001b[1;33m\u001b[0m\u001b[1;33m\u001b[0m\u001b[1;33m\u001b[0m\u001b[0m\n\u001b[1;32m----> 3\u001b[1;33m \u001b[0ms\u001b[0m \u001b[1;33m=\u001b[0m \u001b[0mset\u001b[0m \u001b[1;33m(\u001b[0m\u001b[1;33m[\u001b[0m\u001b[1;34m\"Yuvraj\"\u001b[0m\u001b[1;33m,\u001b[0m\u001b[1;34m\"AC/DC\"\u001b[0m\u001b[1;33m,\u001b[0m\u001b[1;34m\"Thriller\"\u001b[0m\u001b[1;33m]\u001b[0m\u001b[1;33m)\u001b[0m\u001b[1;33m\u001b[0m\u001b[1;33m\u001b[0m\u001b[0m\n\u001b[0m\u001b[0;32m      4\u001b[0m \u001b[0mprint\u001b[0m\u001b[1;33m(\u001b[0m\u001b[0ms\u001b[0m\u001b[1;33m)\u001b[0m\u001b[1;33m\u001b[0m\u001b[1;33m\u001b[0m\u001b[0m\n",
      "\u001b[1;31mTypeError\u001b[0m: 'set' object is not callable"
     ]
    }
   ],
   "source": [
    "#you can covert list into set by using method fuction \"set()\", this is called type casting\n",
    "#For example\n",
    "s = set ([\"Yuvraj\",\"AC/DC\",\"Thriller\"])\n",
    "print(s)"
   ]
  },
  {
   "cell_type": "code",
   "execution_count": 18,
   "metadata": {},
   "outputs": [
    {
     "name": "stdout",
     "output_type": "stream",
     "text": [
      "{'Yuvraj', 'Patsariya', 'AC/DC', 'Thriller'}\n"
     ]
    }
   ],
   "source": [
    "#Set operation like add, remove \"add()\" and \"remove()\"\n",
    "#These can be used change the set\n",
    "#For example add\n",
    "s = {\"Yuvraj\",\"AC/DC\",\"Thriller\"}\n",
    "s.add(\"Patsariya\")\n",
    "print(s)"
   ]
  },
  {
   "cell_type": "code",
   "execution_count": 21,
   "metadata": {},
   "outputs": [
    {
     "name": "stdout",
     "output_type": "stream",
     "text": [
      "{'Yuvraj', 'Patsariya', 'AC/DC'}\n"
     ]
    }
   ],
   "source": [
    "#Now for remove operation\n",
    "#For example remove\n",
    "s.remove(\"Thriller\")\n",
    "print(s)"
   ]
  },
  {
   "cell_type": "code",
   "execution_count": 22,
   "metadata": {},
   "outputs": [
    {
     "data": {
      "text/plain": [
       "True"
      ]
     },
     "execution_count": 22,
     "metadata": {},
     "output_type": "execute_result"
    }
   ],
   "source": [
    "#If any item in set so use \"in\"command\n",
    "#For example\n",
    "\"Yuvraj\" in s"
   ]
  },
  {
   "cell_type": "code",
   "execution_count": 23,
   "metadata": {},
   "outputs": [
    {
     "name": "stdout",
     "output_type": "stream",
     "text": [
      "No variables match your requested type.\n"
     ]
    }
   ],
   "source": [
    "who in s"
   ]
  },
  {
   "cell_type": "code",
   "execution_count": 24,
   "metadata": {},
   "outputs": [
    {
     "data": {
      "text/plain": [
       "set"
      ]
     },
     "execution_count": 24,
     "metadata": {},
     "output_type": "execute_result"
    }
   ],
   "source": [
    "type(s)"
   ]
  },
  {
   "cell_type": "code",
   "execution_count": 25,
   "metadata": {},
   "outputs": [
    {
     "name": "stdout",
     "output_type": "stream",
     "text": [
      "{'AC/DC', 'Thriller'}\n"
     ]
    }
   ],
   "source": [
    "#Mathematical Opreration just like intersection , union and subset\n",
    "#If intersection two set is anew set containing element which are in of those \n",
    "#For example intersection two sets detnoted \"&\"\n",
    "set_1 = {\"Yuvraj\",\"AC/DC\",\"Thriller\"}\n",
    "set_2 = {\"Patsariya\",\"AC/DC\",\"Thriller\"}\n",
    "set_3 = set_1&set_2\n",
    "print(set_3)"
   ]
  },
  {
   "cell_type": "code",
   "execution_count": 27,
   "metadata": {},
   "outputs": [
    {
     "name": "stdout",
     "output_type": "stream",
     "text": [
      "{'Yuvraj', 'Thriller', 'Patsariya', 'AC/DC'}\n"
     ]
    }
   ],
   "source": [
    "#For example union two sets detnoted \"union()\"\n",
    "set_3 = set_1.union(set_2)\n",
    "print(set_3)"
   ]
  },
  {
   "cell_type": "code",
   "execution_count": 34,
   "metadata": {},
   "outputs": [
    {
     "data": {
      "text/plain": [
       "True"
      ]
     },
     "execution_count": 34,
     "metadata": {},
     "output_type": "execute_result"
    }
   ],
   "source": [
    "#For example subset in sets detnoted \"subset()\"\n",
    "set_1 = {\"Yuvraj\",\"AC/DC\",\"Thriller\"}\n",
    "set_2 = {\"AC/DC\",\"Thriller\"}\n",
    "set_2.issubset(set_1)\n",
    "#print(set_1)"
   ]
  }
 ],
 "metadata": {
  "kernelspec": {
   "display_name": "Python 3",
   "language": "python",
   "name": "python3"
  },
  "language_info": {
   "codemirror_mode": {
    "name": "ipython",
    "version": 3
   },
   "file_extension": ".py",
   "mimetype": "text/x-python",
   "name": "python",
   "nbconvert_exporter": "python",
   "pygments_lexer": "ipython3",
   "version": "3.7.6"
  }
 },
 "nbformat": 4,
 "nbformat_minor": 4
}
