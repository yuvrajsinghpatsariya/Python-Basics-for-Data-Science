{
 "cells": [
  {
   "cell_type": "code",
   "execution_count": 1,
   "metadata": {},
   "outputs": [],
   "source": [
    "#Class And Object\n",
    "#Python has many different kind of datatype : integer,float,boolean,list,dictionaries,string\n",
    "#Python has lot of datatype\n",
    "#Each is an object \n",
    "#Ever object has:\n",
    "#    *a type\n",
    "#    *An internal data represent like a blueprint\n",
    "#    *Set of produres for inreacting with object (method)\n",
    "#An object is an instance of parameter"
   ]
  },
  {
   "cell_type": "code",
   "execution_count": 2,
   "metadata": {},
   "outputs": [
    {
     "data": {
      "text/plain": [
       "list"
      ]
     },
     "execution_count": 2,
     "metadata": {},
     "output_type": "execute_result"
    }
   ],
   "source": [
    "#Object type;- You can find object by using the command \"type()\"\n",
    "#For example \n",
    "type([\"hello\",2,3])"
   ]
  },
  {
   "cell_type": "code",
   "execution_count": 3,
   "metadata": {},
   "outputs": [
    {
     "data": {
      "text/plain": [
       "str"
      ]
     },
     "execution_count": 3,
     "metadata": {},
     "output_type": "execute_result"
    }
   ],
   "source": [
    "type(\"hello\")"
   ]
  },
  {
   "cell_type": "code",
   "execution_count": 6,
   "metadata": {},
   "outputs": [
    {
     "name": "stdout",
     "output_type": "stream",
     "text": [
      "[1, 5, 5, 13, 15, 20, 21, 25, 74]\n"
     ]
    }
   ],
   "source": [
    "#Method \n",
    "#A class or type methods are functions that every instance of the class or object provide\n",
    "#It is how to you interact with data in a object.\n",
    "#Sorting is an example of method\n",
    "date=[5,15,21,1,13,5,74,25,20]\n",
    "date.sort()\n",
    "print(date)"
   ]
  },
  {
   "cell_type": "code",
   "execution_count": 7,
   "metadata": {},
   "outputs": [],
   "source": [
    "#You can creat own type defining class in python\n",
    "#class is a group attributes and methods.(Attributes represent variable caonain data)(Method preforms task or action.it is similar to finction)\n",
    "#So we can creat instance/object of that class.\n",
    "#Class data attributes define the class"
   ]
  },
  {
   "cell_type": "code",
   "execution_count": 22,
   "metadata": {},
   "outputs": [
    {
     "name": "stdout",
     "output_type": "stream",
     "text": [
      "I am method\n"
     ]
    }
   ],
   "source": [
    "#How to creat class keyword of class \"class\"\n",
    "#Self is a variable which refer to current class object/instance.\n",
    "#For example\n",
    "class Classname(object):\n",
    "    def func(self):\n",
    "        print (\"I am method\")\n",
    "c1 = Classname()\n",
    "c1.func()"
   ]
  },
  {
   "cell_type": "code",
   "execution_count": 23,
   "metadata": {},
   "outputs": [
    {
     "name": "stdout",
     "output_type": "stream",
     "text": [
      "I am method\n"
     ]
    }
   ],
   "source": [
    "#For example without using \"(object)\"\n",
    "class Classname:\n",
    "    def func(self):\n",
    "        print (\"I am method\")\n",
    "c1 = Classname()\n",
    "c1.func()"
   ]
  },
  {
   "cell_type": "code",
   "execution_count": 34,
   "metadata": {},
   "outputs": [
    {
     "name": "stdout",
     "output_type": "stream",
     "text": [
      "Model: realme X\n"
     ]
    }
   ],
   "source": [
    "#example\n",
    "class Mobile:\n",
    "    def __init__(self):\n",
    "        self.model ='realme X'\n",
    "        \n",
    "    def show_model(self):\n",
    "        print(\"Model:\",self.model)\n",
    "        \n",
    "r = Mobile()\n",
    "r.show_model()"
   ]
  },
  {
   "cell_type": "code",
   "execution_count": 37,
   "metadata": {},
   "outputs": [
    {
     "name": "stdout",
     "output_type": "stream",
     "text": [
      "realme X\n"
     ]
    }
   ],
   "source": [
    "#Access vraiable out side class\n",
    "print(r.model)"
   ]
  },
  {
   "cell_type": "code",
   "execution_count": 36,
   "metadata": {},
   "outputs": [
    {
     "name": "stdout",
     "output_type": "stream",
     "text": [
      "Model real me X\n"
     ]
    }
   ],
   "source": [
    "#example\n",
    "class Mobile(object):\n",
    "    def __init__(self,m):\n",
    "        self.m = m\n",
    "    def show_model(self):\n",
    "        print(\"Model\",self.m)\n",
    "realme = Mobile('real me X')\n",
    "realme.show_model()\n"
   ]
  },
  {
   "cell_type": "code",
   "execution_count": 38,
   "metadata": {},
   "outputs": [
    {
     "data": {
      "text/plain": [
       "'real me X'"
      ]
     },
     "execution_count": 38,
     "metadata": {},
     "output_type": "execute_result"
    }
   ],
   "source": [
    "realme.m"
   ]
  },
  {
   "cell_type": "code",
   "execution_count": 45,
   "metadata": {},
   "outputs": [
    {
     "name": "stdout",
     "output_type": "stream",
     "text": [
      "Model realme pro 2\n",
      "Model Mi 10\n"
     ]
    }
   ],
   "source": [
    "#example with changing vriable \n",
    "realme.m=\"realme pro 2\"\n",
    "realme.show_model()\n",
    "redmi= Mobile(\"Mi 10\")\n",
    "redmi.show_model()"
   ]
  },
  {
   "cell_type": "code",
   "execution_count": 48,
   "metadata": {},
   "outputs": [
    {
     "name": "stdout",
     "output_type": "stream",
     "text": [
      "Model Realme X pro 10000\n",
      "Model MI Note 10 10000\n"
     ]
    }
   ],
   "source": [
    "#example\n",
    "class Mobile(object):\n",
    "    def __init__(self,m):\n",
    "        self.m = m\n",
    "    def show_model(self):\n",
    "        price= \"10000\"\n",
    "        print(\"Model\",self.m,price)\n",
    "realme = Mobile(\"Realme X pro\")\n",
    "realme.show_model()\n",
    "redmi = Mobile(\"MI Note 10\")\n",
    "redmi.show_model()"
   ]
  },
  {
   "cell_type": "code",
   "execution_count": 53,
   "metadata": {},
   "outputs": [
    {
     "name": "stdout",
     "output_type": "stream",
     "text": [
      "Model Realme X pro 10000\n",
      "Model MI Note 10 10000\n"
     ]
    }
   ],
   "source": [
    "class Mobile(object):\n",
    "    def __init__(self,m):\n",
    "        self.m = m\n",
    "    def show_model(self,p):\n",
    "        self.price= p\n",
    "        print(\"Model\",self.m,self.price)\n",
    "realme = Mobile(\"Realme X pro\")\n",
    "realme.show_model(\"10000\")\n",
    "redmi = Mobile(\"MI Note 10\")\n",
    "redmi.show_model(\"10000\")"
   ]
  },
  {
   "cell_type": "code",
   "execution_count": 56,
   "metadata": {},
   "outputs": [
    {
     "name": "stdout",
     "output_type": "stream",
     "text": [
      "Model Realme X pro 10000\n",
      "2705158199432\n",
      "Model MI Note 10 10000\n",
      "2705158056840\n"
     ]
    }
   ],
   "source": [
    "#Example\n",
    "class Mobile(object):\n",
    "    def __init__(self,m):\n",
    "        self.m = m\n",
    "    def show_model(self,p):\n",
    "        self.price= p\n",
    "        print(\"Model\",self.m,self.price)\n",
    "realme = Mobile(\"Realme X pro\")\n",
    "realme.show_model(\"10000\")\n",
    "print(id(realme))\n",
    "\n",
    "redmi = Mobile(\"MI Note 10\")\n",
    "redmi.show_model(\"10000\")\n",
    "print(id(redmi))\n"
   ]
  },
  {
   "cell_type": "code",
   "execution_count": 57,
   "metadata": {},
   "outputs": [],
   "source": [
    "#So we known have different object of same class \n",
    "#For example we are creating class wit parameter cricle(radius,color) and rectangle(hieght,width)\n",
    "#Class of cricle and rectangle have different object according to parameter\n",
    "#class cricle have object of cricle have radius =5 and color =\"red\" and other circle object have redius =10 and color=\"blue\" \n",
    "#So one class have many object and these objects use memory\n",
    "#Let's take example of crarting of class of circle and rectangle.So,we have import some library's \n",
    "#import matplotlib.pyplot as plt\n",
    "#%matplotlib inline  "
   ]
  },
  {
   "cell_type": "code",
   "execution_count": 58,
   "metadata": {},
   "outputs": [],
   "source": [
    "#import matplotlib.pyplot library's"
   ]
  },
  {
   "cell_type": "code",
   "execution_count": 60,
   "metadata": {},
   "outputs": [
    {
     "data": {
      "image/png": "[encoded data removed]",
      "text/plain": [
       "<Figure size 432x288 with 1 Axes>"
      ]
     },
     "metadata": {
      "needs_background": "light"
     },
     "output_type": "display_data"
    }
   ],
   "source": [
    "import matplotlib.pyplot as plt\n",
    "plt.plot([1, 8, 3, 4])\n",
    "plt.ylabel('some numbers')\n",
    "plt.show()"
   ]
  },
  {
   "cell_type": "code",
   "execution_count": 75,
   "metadata": {},
   "outputs": [
    {
     "data": {
      "text/plain": [
       "[<matplotlib.lines.Line2D at 0x275daa0fa48>]"
      ]
     },
     "execution_count": 75,
     "metadata": {},
     "output_type": "execute_result"
    },
    {
     "data": {
      "image/png": "[encoded data removed]",
      "text/plain": [
       "<Figure size 432x288 with 1 Axes>"
      ]
     },
     "metadata": {
      "needs_background": "light"
     },
     "output_type": "display_data"
    }
   ],
   "source": [
    "names = ['group_a', 'group_b', 'group_c']\n",
    "values = [1, 10, 100]\n",
    "plt.plot(names,values)"
   ]
  },
  {
   "cell_type": "code",
   "execution_count": 100,
   "metadata": {},
   "outputs": [
    {
     "data": {
      "image/png": "[encoded data removed]",
      "text/plain": [
       "<Figure size 432x288 with 1 Axes>"
      ]
     },
     "metadata": {
      "needs_background": "light"
     },
     "output_type": "display_data"
    }
   ],
   "source": [
    "plt.plot([1, 2, 3, 4], [1, 4, 9, 16], 'ro')\n",
    "plt.axis([0, 6, 0, 20])\n",
    "plt.show()"
   ]
  },
  {
   "cell_type": "code",
   "execution_count": 99,
   "metadata": {},
   "outputs": [
    {
     "data": {
      "image/png": "[encoded data removed]",
      "text/plain": [
       "<Figure size 360x360 with 1 Axes>"
      ]
     },
     "metadata": {
      "needs_background": "light"
     },
     "output_type": "display_data"
    }
   ],
   "source": [
    "names = ['group_a', 'group_b', 'group_c']\n",
    "values = [1, 10, 100]\n",
    "plt.plot(names,values'ro')\n",
    "plt.axis([0, 6, 0, 20])\n",
    "plt.show()"
   ]
  },
  {
   "cell_type": "code",
   "execution_count": 74,
   "metadata": {},
   "outputs": [
    {
     "data": {
      "image/png": "[encoded data removed]",
      "text/plain": [
       "<Figure size 1368x360 with 3 Axes>"
      ]
     },
     "metadata": {
      "needs_background": "light"
     },
     "output_type": "display_data"
    }
   ],
   "source": [
    "names = ['group_a', 'group_b', 'group_c']\n",
    "values = [1, 10, 100]\n",
    "\n",
    "plt.figure(figsize=(19, 5))\n",
    "\n",
    "plt.subplot(131)\n",
    "plt.bar(names, values)\n",
    "plt.subplot(132)\n",
    "plt.scatter(names, values)\n",
    "plt.subplot(133)\n",
    "plt.plot(names, values)\n",
    "plt.suptitle('Categorical Plotting')\n",
    "plt.show()"
   ]
  },
  {
   "cell_type": "code",
   "execution_count": 2,
   "metadata": {},
   "outputs": [],
   "source": [
    "#Examole of cricle and rectangel import matplotlib.pyplot is a library\n",
    "import matplotlib.pyplot as plt\n",
    "%matplotlib inline  \n",
    "#%matplotlib inline is an example of a predefined magic function in Ipython. \n",
    "#They are frequently used in interactive environments like jupyter notebook.\n",
    "#%matplotlib inline makes your plot outputs appear and be stored within the notebook."
   ]
  },
  {
   "cell_type": "code",
   "execution_count": 3,
   "metadata": {},
   "outputs": [
    {
     "data": {
      "image/png": "[encoded data removed]",
      "text/plain": [
       "<Figure size 432x288 with 1 Axes>"
      ]
     },
     "metadata": {
      "needs_background": "light"
     },
     "output_type": "display_data"
    }
   ],
   "source": [
    "import matplotlib.pyplot as plt\n",
    "\n",
    "def create_circle():\n",
    "    circle= plt.Circle((0,0), radius= 5)\n",
    "    return circle\n",
    "\n",
    "def show_shape(patch):\n",
    "    ax=plt.gca()\n",
    "    ax.add_patch(patch)\n",
    "    #plt.axis([-10,10,-10,10])\n",
    "    plt.axis('scaled')\n",
    "    plt.show()\n",
    "\n",
    "\n",
    "#if __name__== '__main__':\n",
    "c= create_circle()\n",
    "show_shape(c)"
   ]
  },
  {
   "cell_type": "code",
   "execution_count": 73,
   "metadata": {},
   "outputs": [],
   "source": [
    "#Now make class of cricle\n",
    "class Cricle:\n",
    "    #Constructor\n",
    "    def __init__(self,radius=3, color='blue'):#This Special mehod or Constructor\n",
    "        self.radius=radius\n",
    "        self.color=color\n",
    "    # Method\n",
    "    def add_radius(self,r):#This is a method we are defining.\n",
    "        self.radius=self.radius+r\n",
    "        return(self.radius)\n",
    "    # Method\n",
    "    def draw_cricle(self):#gives the circle a center of (0,0) on an X-Y axis\n",
    "        plt.gca().add_patch(plt.Circle((0, 0), radius=self.radius, fc=self.color))\n",
    "        plt.axis('scaled')\n",
    "        plt.show() \n",
    "        #plt.gca(), gives a reference to the current Axes.\n",
    "        #add_patch(patch), adds the shape to the graph.\n",
    "        #The line, plt.show(), will show the circle graph."
   ]
  },
  {
   "cell_type": "code",
   "execution_count": 74,
   "metadata": {},
   "outputs": [
    {
     "data": {
      "image/png": "[encoded data removed]",
      "text/plain": [
       "<Figure size 432x288 with 1 Axes>"
      ]
     },
     "metadata": {
      "needs_background": "light"
     },
     "output_type": "display_data"
    }
   ],
   "source": [
    "red = Cricle()\n",
    "red.draw_cricle()"
   ]
  },
  {
   "cell_type": "code",
   "execution_count": 75,
   "metadata": {},
   "outputs": [],
   "source": [
    "RedCircle = Cricle(10, 'red')"
   ]
  },
  {
   "cell_type": "code",
   "execution_count": 76,
   "metadata": {},
   "outputs": [
    {
     "data": {
      "text/plain": [
       "['__class__',\n",
       " '__delattr__',\n",
       " '__dict__',\n",
       " '__dir__',\n",
       " '__doc__',\n",
       " '__eq__',\n",
       " '__format__',\n",
       " '__ge__',\n",
       " '__getattribute__',\n",
       " '__gt__',\n",
       " '__hash__',\n",
       " '__init__',\n",
       " '__init_subclass__',\n",
       " '__le__',\n",
       " '__lt__',\n",
       " '__module__',\n",
       " '__ne__',\n",
       " '__new__',\n",
       " '__reduce__',\n",
       " '__reduce_ex__',\n",
       " '__repr__',\n",
       " '__setattr__',\n",
       " '__sizeof__',\n",
       " '__str__',\n",
       " '__subclasshook__',\n",
       " '__weakref__',\n",
       " 'add_radius',\n",
       " 'color',\n",
       " 'draw_cricle',\n",
       " 'radius']"
      ]
     },
     "execution_count": 76,
     "metadata": {},
     "output_type": "execute_result"
    }
   ],
   "source": [
    "dir(RedCircle)"
   ]
  },
  {
   "cell_type": "code",
   "execution_count": 77,
   "metadata": {},
   "outputs": [
    {
     "data": {
      "text/plain": [
       "10"
      ]
     },
     "execution_count": 77,
     "metadata": {},
     "output_type": "execute_result"
    }
   ],
   "source": [
    "RedCircle.radius"
   ]
  },
  {
   "cell_type": "code",
   "execution_count": 78,
   "metadata": {},
   "outputs": [
    {
     "data": {
      "text/plain": [
       "'red'"
      ]
     },
     "execution_count": 78,
     "metadata": {},
     "output_type": "execute_result"
    }
   ],
   "source": [
    "RedCircle.color"
   ]
  },
  {
   "cell_type": "code",
   "execution_count": 79,
   "metadata": {},
   "outputs": [
    {
     "data": {
      "image/png": "[encoded data removed]",
      "text/plain": [
       "<Figure size 432x288 with 1 Axes>"
      ]
     },
     "metadata": {
      "needs_background": "light"
     },
     "output_type": "display_data"
    },
    {
     "data": {
      "image/png": "[encoded data removed]",
      "text/plain": [
       "<Figure size 432x288 with 1 Axes>"
      ]
     },
     "metadata": {
      "needs_background": "light"
     },
     "output_type": "display_data"
    }
   ],
   "source": [
    "# Set the object attribute radius\n",
    "RedCircle.draw_cricle()\n",
    "RedCircle.add_radius(2)\n",
    "RedCircle.draw_cricle()"
   ]
  },
  {
   "cell_type": "code",
   "execution_count": 80,
   "metadata": {},
   "outputs": [
    {
     "data": {
      "image/png": "[encoded data removed]",
      "text/plain": [
       "<Figure size 432x288 with 1 Axes>"
      ]
     },
     "metadata": {
      "needs_background": "light"
     },
     "output_type": "display_data"
    },
    {
     "name": "stdout",
     "output_type": "stream",
     "text": [
      "1882404352648\n"
     ]
    }
   ],
   "source": [
    "RedCircle.radius=1\n",
    "RedCircle.draw_cricle()\n",
    "print(id(RedCircle))"
   ]
  },
  {
   "cell_type": "code",
   "execution_count": 81,
   "metadata": {},
   "outputs": [
    {
     "data": {
      "image/png": "[encoded data removed]",
      "text/plain": [
       "<Figure size 432x288 with 1 Axes>"
      ]
     },
     "metadata": {
      "needs_background": "light"
     },
     "output_type": "display_data"
    },
    {
     "name": "stdout",
     "output_type": "stream",
     "text": [
      "1882404211592\n"
     ]
    }
   ],
   "source": [
    "blue=Cricle(3,\"blue\")\n",
    "blue.draw_cricle()\n",
    "print(id(blue))"
   ]
  },
  {
   "cell_type": "code",
   "execution_count": 82,
   "metadata": {},
   "outputs": [
    {
     "data": {
      "image/png": "[encoded data removed]",
      "text/plain": [
       "<Figure size 432x288 with 1 Axes>"
      ]
     },
     "metadata": {
      "needs_background": "light"
     },
     "output_type": "display_data"
    },
    {
     "name": "stdout",
     "output_type": "stream",
     "text": [
      "1882358638728\n"
     ]
    }
   ],
   "source": [
    "blue1=Cricle(3,\"yellow\")\n",
    "blue1.draw_cricle()\n",
    "print(id(blue1))"
   ]
  },
  {
   "cell_type": "code",
   "execution_count": 83,
   "metadata": {},
   "outputs": [],
   "source": [
    "#Now creat rectangle class\n",
    "class Rectangle:\n",
    "    def __init__(self,height,width,color):\n",
    "        self.height=height\n",
    "        self.width=width\n",
    "        self.color=color\n",
    "    def add(self,h,w):\n",
    "        self.height=self.height+h\n",
    "        self.width=self.width+w\n",
    "        return(self.height,self.width)\n",
    "    def draw(self):\n",
    "        plt.gca().add_patch(plt.Rectangle((0,0),height=self.height, width=self.width, fc=self.color))\n",
    "        plt.axis('scaled')\n",
    "        plt.show() \n"
   ]
  },
  {
   "cell_type": "code",
   "execution_count": 61,
   "metadata": {},
   "outputs": [],
   "source": [
    "sk=Rectangle(4,8,\"blue\")"
   ]
  },
  {
   "cell_type": "code",
   "execution_count": 62,
   "metadata": {},
   "outputs": [
    {
     "data": {
      "text/plain": [
       "4"
      ]
     },
     "execution_count": 62,
     "metadata": {},
     "output_type": "execute_result"
    }
   ],
   "source": [
    "sk.height"
   ]
  },
  {
   "cell_type": "code",
   "execution_count": 63,
   "metadata": {},
   "outputs": [
    {
     "data": {
      "text/plain": [
       "8"
      ]
     },
     "execution_count": 63,
     "metadata": {},
     "output_type": "execute_result"
    }
   ],
   "source": [
    "sk.width"
   ]
  },
  {
   "cell_type": "code",
   "execution_count": 64,
   "metadata": {},
   "outputs": [
    {
     "data": {
      "text/plain": [
       "'blue'"
      ]
     },
     "execution_count": 64,
     "metadata": {},
     "output_type": "execute_result"
    }
   ],
   "source": [
    "sk.color"
   ]
  },
  {
   "cell_type": "code",
   "execution_count": 65,
   "metadata": {},
   "outputs": [
    {
     "data": {
      "image/png": "[encoded data removed]",
      "text/plain": [
       "<Figure size 432x288 with 1 Axes>"
      ]
     },
     "metadata": {
      "needs_background": "light"
     },
     "output_type": "display_data"
    },
    {
     "name": "stdout",
     "output_type": "stream",
     "text": [
      "1882403411656\n"
     ]
    }
   ],
   "source": [
    "sk.draw()\n",
    "print(id(sk))"
   ]
  },
  {
   "cell_type": "code",
   "execution_count": 68,
   "metadata": {},
   "outputs": [
    {
     "data": {
      "text/plain": [
       "(8, 12)"
      ]
     },
     "execution_count": 68,
     "metadata": {},
     "output_type": "execute_result"
    }
   ],
   "source": [
    "sk.add(2,2,)"
   ]
  },
  {
   "cell_type": "code",
   "execution_count": 70,
   "metadata": {},
   "outputs": [
    {
     "data": {
      "text/plain": [
       "8"
      ]
     },
     "execution_count": 70,
     "metadata": {},
     "output_type": "execute_result"
    }
   ],
   "source": [
    "sk.height"
   ]
  },
  {
   "cell_type": "code",
   "execution_count": 71,
   "metadata": {},
   "outputs": [
    {
     "data": {
      "text/plain": [
       "12"
      ]
     },
     "execution_count": 71,
     "metadata": {},
     "output_type": "execute_result"
    }
   ],
   "source": [
    "sk.width"
   ]
  },
  {
   "cell_type": "code",
   "execution_count": 72,
   "metadata": {},
   "outputs": [
    {
     "data": {
      "image/png": "[encoded data removed]",
      "text/plain": [
       "<Figure size 432x288 with 1 Axes>"
      ]
     },
     "metadata": {
      "needs_background": "light"
     },
     "output_type": "display_data"
    },
    {
     "name": "stdout",
     "output_type": "stream",
     "text": [
      "1882403411656\n"
     ]
    }
   ],
   "source": [
    "sk.draw()\n",
    "print(id(sk))"
   ]
  },
  {
   "cell_type": "code",
   "execution_count": 84,
   "metadata": {},
   "outputs": [],
   "source": [
    "sk2=Rectangle(4,8,\"orange\")"
   ]
  },
  {
   "cell_type": "code",
   "execution_count": 85,
   "metadata": {},
   "outputs": [
    {
     "data": {
      "image/png": "[encoded data removed]",
      "text/plain": [
       "<Figure size 432x288 with 1 Axes>"
      ]
     },
     "metadata": {
      "needs_background": "light"
     },
     "output_type": "display_data"
    }
   ],
   "source": [
    "sk2.draw()"
   ]
  },
  {
   "cell_type": "code",
   "execution_count": null,
   "metadata": {},
   "outputs": [],
   "source": []
  }
 ],
 "metadata": {
  "kernelspec": {
   "display_name": "Python 3",
   "language": "python",
   "name": "python3"
  },
  "language_info": {
   "codemirror_mode": {
    "name": "ipython",
    "version": 3
   },
   "file_extension": ".py",
   "mimetype": "text/x-python",
   "name": "python",
   "nbconvert_exporter": "python",
   "pygments_lexer": "ipython3",
   "version": "3.7.6"
  }
 },
 "nbformat": 4,
 "nbformat_minor": 4
}
