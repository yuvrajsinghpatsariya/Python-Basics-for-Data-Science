{
 "cells": [
  {
   "cell_type": "code",
   "execution_count": 4,
   "metadata": {},
   "outputs": [
    {
     "data": {
      "text/plain": [
       "True"
      ]
     },
     "execution_count": 4,
     "metadata": {},
     "output_type": "execute_result"
    }
   ],
   "source": [
    "#Conditional and Branching\n",
    "#Comparing two operation copmare some value or oprands then based on some condition they are produce a solution\n",
    "#For example comparsion opertor \"==\"\n",
    "a = 6\n",
    "a==6"
   ]
  },
  {
   "cell_type": "code",
   "execution_count": 2,
   "metadata": {},
   "outputs": [
    {
     "data": {
      "text/plain": [
       "False"
      ]
     },
     "execution_count": 2,
     "metadata": {},
     "output_type": "execute_result"
    }
   ],
   "source": [
    "#comparsion operator lesser \"<\" & greater then\">\"\n",
    "#Other exmple greater then\n",
    "a>8"
   ]
  },
  {
   "cell_type": "code",
   "execution_count": 3,
   "metadata": {},
   "outputs": [
    {
     "data": {
      "text/plain": [
       "True"
      ]
     },
     "execution_count": 3,
     "metadata": {},
     "output_type": "execute_result"
    }
   ],
   "source": [
    "#Other example lesser then\n",
    "a<8"
   ]
  },
  {
   "cell_type": "code",
   "execution_count": 5,
   "metadata": {},
   "outputs": [
    {
     "data": {
      "text/plain": [
       "True"
      ]
     },
     "execution_count": 5,
     "metadata": {},
     "output_type": "execute_result"
    }
   ],
   "source": [
    "a>=6"
   ]
  },
  {
   "cell_type": "code",
   "execution_count": 6,
   "metadata": {},
   "outputs": [
    {
     "data": {
      "text/plain": [
       "True"
      ]
     },
     "execution_count": 6,
     "metadata": {},
     "output_type": "execute_result"
    }
   ],
   "source": [
    "a<=6"
   ]
  },
  {
   "cell_type": "code",
   "execution_count": 7,
   "metadata": {},
   "outputs": [
    {
     "data": {
      "text/plain": [
       "True"
      ]
     },
     "execution_count": 7,
     "metadata": {},
     "output_type": "execute_result"
    }
   ],
   "source": [
    "# Another example in not equal\n",
    "a!=9"
   ]
  },
  {
   "cell_type": "code",
   "execution_count": 8,
   "metadata": {},
   "outputs": [
    {
     "data": {
      "text/plain": [
       "False"
      ]
     },
     "execution_count": 8,
     "metadata": {},
     "output_type": "execute_result"
    }
   ],
   "source": [
    "#We can compare two string\n",
    "#For example\n",
    "\"AC/DC\"==\"Michael Jackson\""
   ]
  },
  {
   "cell_type": "code",
   "execution_count": 9,
   "metadata": {},
   "outputs": [
    {
     "data": {
      "text/plain": [
       "True"
      ]
     },
     "execution_count": 9,
     "metadata": {},
     "output_type": "execute_result"
    }
   ],
   "source": [
    "\"AC/DC\"!=\"Michael Jackson\""
   ]
  },
  {
   "cell_type": "code",
   "execution_count": 11,
   "metadata": {},
   "outputs": [
    {
     "name": "stdout",
     "output_type": "stream",
     "text": [
      "you can enter\n",
      "move on\n"
     ]
    }
   ],
   "source": [
    "#Br anching \n",
    "#Branching allows use to different statement for a different input\n",
    "#It is help  an \"If Statement\" in lockroom,\"if statement\" is true then you can enter this room\n",
    "#your program can run define task\n",
    "#IF satement is false then your program skip this statement \n",
    "#We have colon with in indent we have the expression that is run,if condition is true\n",
    "#For example \n",
    "age = 19\n",
    "if(age>18):\n",
    "    print(\"you can enter\")\n",
    "print (\"move on\")"
   ]
  },
  {
   "cell_type": "code",
   "execution_count": 12,
   "metadata": {},
   "outputs": [
    {
     "name": "stdout",
     "output_type": "stream",
     "text": [
      "enter another room\n",
      "move on\n"
     ]
    }
   ],
   "source": [
    "#Else statement \n",
    "#Wil run different block of statement \"if\" same condition are false \n",
    "#For example\n",
    "age =15\n",
    "if(age>18):\n",
    "    print(\"ener this room\")\n",
    "else:\n",
    "    print(\"enter another room\")\n",
    "print(\"move on\")"
   ]
  },
  {
   "cell_type": "code",
   "execution_count": 18,
   "metadata": {},
   "outputs": [
    {
     "name": "stdout",
     "output_type": "stream",
     "text": [
      "enter this room\n",
      "your age is 22\n",
      "move on\n"
     ]
    }
   ],
   "source": [
    "#Elif Statement\n",
    "#The elif statement short from for \"else if\" allows use to check addtional conditional if the prouceding conditional is false or conditonal is true  and it will run\n",
    "#For example\n",
    "age = 22\n",
    "if(age>18):\n",
    "    print(\"enter this room\")\n",
    "    if(age ==22):\n",
    "        print(\"your age is 22\")    \n",
    "elif(age<18):\n",
    "    print(\"enter child room\")\n",
    "else:\n",
    "    print(\"enter another room\")\n",
    "print(\"move on\")"
   ]
  },
  {
   "cell_type": "code",
   "execution_count": 22,
   "metadata": {},
   "outputs": [
    {
     "name": "stdout",
     "output_type": "stream",
     "text": [
      "enter this room\n",
      "enter child room\n",
      "move on\n"
     ]
    }
   ],
   "source": [
    "#Logic operator \n",
    "#Logic operator take boolean value and produce different boolean value. Logic operator can be \"And\", \"Not\" and \"Or\" operator.\n",
    "#The \"Not\" statement outputs the opposite truth value.\n",
    "#The \"And\" statement is only True when both conditions are true.\n",
    "#For example And operator\n",
    "age = 22\n",
    "if(age>18):\n",
    "    print(\"enter this room\")\n",
    "    if age<25 and age>25:\n",
    "        print(\"your age is 22\")    \n",
    "    else:\n",
    "        print(\"enter child room\")\n",
    "else:\n",
    "    print(\"enter another room\")\n",
    "print(\"move on\")"
   ]
  },
  {
   "cell_type": "code",
   "execution_count": 23,
   "metadata": {},
   "outputs": [
    {
     "name": "stdout",
     "output_type": "stream",
     "text": [
      "enter this room\n",
      "your age is 22\n",
      "move on\n"
     ]
    }
   ],
   "source": [
    "#The \"Or\" statement is true if one condition is True.\n",
    "#For example Or operator\n",
    "age = 22\n",
    "if(age>18):\n",
    "    print(\"enter this room\")\n",
    "    if age<25 or age>25:\n",
    "        print(\"your age is 22\")    \n",
    "    else:\n",
    "        print(\"enter child room\")\n",
    "else:\n",
    "    print(\"enter another room\")\n",
    "print(\"move on\")"
   ]
  },
  {
   "cell_type": "code",
   "execution_count": null,
   "metadata": {},
   "outputs": [],
   "source": []
  }
 ],
 "metadata": {
  "kernelspec": {
   "display_name": "Python 3",
   "language": "python",
   "name": "python3"
  },
  "language_info": {
   "codemirror_mode": {
    "name": "ipython",
    "version": 3
   },
   "file_extension": ".py",
   "mimetype": "text/x-python",
   "name": "python",
   "nbconvert_exporter": "python",
   "pygments_lexer": "ipython3",
   "version": "3.7.6"
  }
 },
 "nbformat": 4,
 "nbformat_minor": 4
}
