{
 "cells": [
  {
   "cell_type": "code",
   "execution_count": 2,
   "metadata": {},
   "outputs": [
    {
     "name": "stdout",
     "output_type": "stream",
     "text": [
      "4\n"
     ]
    }
   ],
   "source": [
    "#Function take some input then produce some output or change \n",
    "#The function is just a piece of code you can resue code \n",
    "#You can implement own function but many case you can use other people fuctions\n",
    "#If we define a function to do task we just have to call function\n",
    "#Pyton have inbuild function \n",
    "#For example inbuild function in python\n",
    "st = [2,5,6,7]\n",
    "print(len(st))"
   ]
  },
  {
   "cell_type": "code",
   "execution_count": 3,
   "metadata": {},
   "outputs": [
    {
     "name": "stdout",
     "output_type": "stream",
     "text": [
      "[2, 5, 6, 7]\n"
     ]
    }
   ],
   "source": [
    "print(sorted(st))"
   ]
  },
  {
   "cell_type": "code",
   "execution_count": 4,
   "metadata": {},
   "outputs": [
    {
     "name": "stdout",
     "output_type": "stream",
     "text": [
      "20\n"
     ]
    }
   ],
   "source": [
    "print(sum(st))"
   ]
  },
  {
   "cell_type": "code",
   "execution_count": 6,
   "metadata": {},
   "outputs": [
    {
     "name": "stdout",
     "output_type": "stream",
     "text": [
      "[2, 5, 6, 7]\n"
     ]
    }
   ],
   "source": [
    "st.sort()\n",
    "print(st)"
   ]
  },
  {
   "cell_type": "code",
   "execution_count": 7,
   "metadata": {},
   "outputs": [
    {
     "data": {
      "text/plain": [
       "6"
      ]
     },
     "execution_count": 7,
     "metadata": {},
     "output_type": "execute_result"
    }
   ],
   "source": [
    "#Right now build own function\n",
    "#Making function-->To define a function with a keyword should be descripive\"def\"\n",
    "#For example to make own function\n",
    "def add1(a):\n",
    "    \"\"\"\n",
    "    add 1 to a\n",
    "    \"\"\"\n",
    "    b=a+1\n",
    "    return b\n",
    "add1(5)"
   ]
  },
  {
   "cell_type": "code",
   "execution_count": 49,
   "metadata": {},
   "outputs": [
    {
     "name": "stdout",
     "output_type": "stream",
     "text": [
      "20\n"
     ]
    }
   ],
   "source": [
    "#multiplie parameter\n",
    "#A function can have multiple parameter\n",
    "#For example \n",
    "def multi(a,b):\n",
    "    c=a*b\n",
    "    return c\n",
    "d = multi(5,4)\n",
    "print(d)"
   ]
  },
  {
   "cell_type": "code",
   "execution_count": 50,
   "metadata": {},
   "outputs": [
    {
     "data": {
      "text/plain": [
       "15"
      ]
     },
     "execution_count": 50,
     "metadata": {},
     "output_type": "execute_result"
    }
   ],
   "source": [
    "multi(3,5)"
   ]
  },
  {
   "cell_type": "code",
   "execution_count": 51,
   "metadata": {},
   "outputs": [
    {
     "name": "stdout",
     "output_type": "stream",
     "text": [
      "78 plus 1 equal 79\n"
     ]
    }
   ],
   "source": [
    "add1(78)"
   ]
  },
  {
   "cell_type": "code",
   "execution_count": 53,
   "metadata": {},
   "outputs": [
    {
     "data": {
      "text/plain": [
       "'yuvrajyuvraj'"
      ]
     },
     "execution_count": 53,
     "metadata": {},
     "output_type": "execute_result"
    }
   ],
   "source": [
    "multi(2,\"yuvraj\")"
   ]
  },
  {
   "cell_type": "code",
   "execution_count": 13,
   "metadata": {},
   "outputs": [
    {
     "name": "stdout",
     "output_type": "stream",
     "text": [
      "no work\n"
     ]
    }
   ],
   "source": [
    "#In many case a function doesnot have any return value.So, we use \"pass\"\n",
    "def add1(k):\n",
    "    pass\n",
    "print(\"no work\")"
   ]
  },
  {
   "cell_type": "code",
   "execution_count": 17,
   "metadata": {},
   "outputs": [
    {
     "name": "stdout",
     "output_type": "stream",
     "text": [
      "3 plus 1 equal 4\n"
     ]
    }
   ],
   "source": [
    "def add1(a):\n",
    "    b=a+1\n",
    "    print(a,\"plus 1 equal\",b)\n",
    "    return\n",
    "add1(3)"
   ]
  },
  {
   "cell_type": "code",
   "execution_count": 31,
   "metadata": {},
   "outputs": [
    {
     "name": "stdout",
     "output_type": "stream",
     "text": [
      "album 0 rating 2\n",
      "album 1 rating 2.3\n",
      "album 2 rating 14\n",
      "album 3 rating 21\n",
      "album 4 rating 54\n"
     ]
    }
   ],
   "source": [
    "#We can use loop ina Function\n",
    "#For example\n",
    "def ps(suff):\n",
    "    for i, s in enumerate(suff):\n",
    "        print(\"album\",i,\"rating\",s)\n",
    "rating = [14,2.3,54,21,2,]\n",
    "rating.sort()\n",
    "ps(rating)"
   ]
  },
  {
   "cell_type": "code",
   "execution_count": 33,
   "metadata": {},
   "outputs": [
    {
     "name": "stdout",
     "output_type": "stream",
     "text": [
      "Yuvraj\n",
      "patsariya\n"
     ]
    }
   ],
   "source": [
    "#Collecting \"argument\"\n",
    "#Variadic parmeter allows us to input a variables number of elemnets\n",
    "#For example\n",
    "def aristname(*names):\n",
    "    for name in names:\n",
    "        print(name)\n",
    "aristname(\"Yuvraj\",\"patsariya\")"
   ]
  },
  {
   "cell_type": "code",
   "execution_count": 36,
   "metadata": {},
   "outputs": [
    {
     "name": "stdout",
     "output_type": "stream",
     "text": [
      "ACDC\n"
     ]
    }
   ],
   "source": [
    "#Scope \n",
    "#Scope of variable is he part of program, when the variable are accessible.\n",
    "#Global variable --> variable are define outside the any function is said to be \"global function\"\n",
    "#For example\n",
    "def addDC(x):\n",
    "    x=x+\"DC\"\n",
    "    print(x)\n",
    "    return x\n",
    "x = \"AC\"\n",
    "z = addDC(x)"
   ]
  },
  {
   "cell_type": "code",
   "execution_count": 43,
   "metadata": {},
   "outputs": [
    {
     "name": "stdout",
     "output_type": "stream",
     "text": [
      "9\n",
      "8\n"
     ]
    }
   ],
   "source": [
    "#If varibale is not define with in a function , python will check \"global scope\"\n",
    "def ACDC(y):\n",
    "    print(rating +y)\n",
    "    return (rating + y)\n",
    "rating = 8\n",
    "z = ACDC(1)\n",
    "print(rating)"
   ]
  },
  {
   "cell_type": "code",
   "execution_count": 60,
   "metadata": {},
   "outputs": [
    {
     "name": "stdout",
     "output_type": "stream",
     "text": [
      "1972\n",
      "2020\n"
     ]
    }
   ],
   "source": [
    "#local variable only exit with in scope function\n",
    "#For example local varible\n",
    "def thriller():\n",
    "    date=1972\n",
    "    print(date)\n",
    "    return date\n",
    "date = 2020\n",
    "thriller()\n",
    "print(date)"
   ]
  },
  {
   "cell_type": "code",
   "execution_count": 63,
   "metadata": {},
   "outputs": [
    {
     "name": "stdout",
     "output_type": "stream",
     "text": [
      "45 minillion\n"
     ]
    }
   ],
   "source": [
    "def pinkFlod():\n",
    "    global album_sales\n",
    "    album_sales = \"45 minillion\"\n",
    "    return album_sales\n",
    "pinkFlod()\n",
    "print(album_sales)"
   ]
  },
  {
   "cell_type": "code",
   "execution_count": 64,
   "metadata": {},
   "outputs": [],
   "source": [
    "#Another example Local varible\n",
    "\n",
    "def square(a):\n",
    "    \n",
    "    # Local variable b\n",
    "    b = 1\n",
    "    c = a * a + b\n",
    "    print(a, \"if you square + 1\", c) \n",
    "    return(c)"
   ]
  },
  {
   "cell_type": "code",
   "execution_count": 65,
   "metadata": {},
   "outputs": [
    {
     "name": "stdout",
     "output_type": "stream",
     "text": [
      "4 if you square + 1 17\n"
     ]
    },
    {
     "data": {
      "text/plain": [
       "17"
      ]
     },
     "execution_count": 65,
     "metadata": {},
     "output_type": "execute_result"
    }
   ],
   "source": [
    "square(4)"
   ]
  },
  {
   "cell_type": "code",
   "execution_count": 68,
   "metadata": {},
   "outputs": [],
   "source": [
    "# Define functions, one with return value None and other without return value\n",
    "\n",
    "def MJ():\n",
    "    print('Michael Jackson')\n",
    "    \n",
    "def MJ1():\n",
    "    print('Michael Jackson')\n",
    "    return(None)"
   ]
  },
  {
   "cell_type": "code",
   "execution_count": 70,
   "metadata": {},
   "outputs": [
    {
     "name": "stdout",
     "output_type": "stream",
     "text": [
      "Michael Jackson\n",
      "Michael Jackson\n"
     ]
    }
   ],
   "source": [
    "MJ()\n",
    "MJ1()"
   ]
  },
  {
   "cell_type": "code",
   "execution_count": 72,
   "metadata": {},
   "outputs": [
    {
     "data": {
      "text/plain": [
       "'uv25'"
      ]
     },
     "execution_count": 72,
     "metadata": {},
     "output_type": "execute_result"
    }
   ],
   "source": [
    "#Create a function con that concatenates two strings using the addition operation:\n",
    "#For example\n",
    "def con (a,b):\n",
    "    return (a+b)\n",
    "con(\"uv\",\"25\")"
   ]
  },
  {
   "cell_type": "code",
   "execution_count": 78,
   "metadata": {},
   "outputs": [
    {
     "data": {
      "text/plain": [
       "5"
      ]
     },
     "execution_count": 78,
     "metadata": {},
     "output_type": "execute_result"
    }
   ],
   "source": [
    "#Some other example in condtion\n",
    "def eq(a,b):\n",
    "    c=a*a+b*b+2*a*b-1\n",
    "    if (c<0):\n",
    "        c=1\n",
    "    else:\n",
    "        c=5\n",
    "    return (c)\n",
    "a1= 4\n",
    "b1=5\n",
    "c1=eq(a1,b1)\n",
    "c1"
   ]
  },
  {
   "cell_type": "code",
   "execution_count": 79,
   "metadata": {},
   "outputs": [
    {
     "data": {
      "text/plain": [
       "5"
      ]
     },
     "execution_count": 79,
     "metadata": {},
     "output_type": "execute_result"
    }
   ],
   "source": [
    "eq(2,5)"
   ]
  },
  {
   "cell_type": "code",
   "execution_count": 80,
   "metadata": {},
   "outputs": [
    {
     "name": "stdout",
     "output_type": "stream",
     "text": [
      "yuvraj 10.5 19\n"
     ]
    },
    {
     "data": {
      "text/plain": [
       "'entered'"
      ]
     },
     "execution_count": 80,
     "metadata": {},
     "output_type": "execute_result"
    }
   ],
   "source": [
    "#Using if/else Statements and Loops in Functions\n",
    "#Some other example in condtion\n",
    "def art(name,rating,age):\n",
    "    print(name,rating,age)\n",
    "    if(age>18):\n",
    "        return \"entered\"\n",
    "    else:\n",
    "        return \"move on\"\n",
    "art(\"yuvraj\",10.5,19)"
   ]
  },
  {
   "cell_type": "code",
   "execution_count": 86,
   "metadata": {},
   "outputs": [
    {
     "name": "stdout",
     "output_type": "stream",
     "text": [
      "yuvraj is a good boy\n"
     ]
    }
   ],
   "source": [
    "# Example of global variable\n",
    "art= \"yuvraj\"\n",
    "def uv(art):\n",
    "    intr=art\n",
    "    print(art,\"is a good boy\")\n",
    "uv(art)\n"
   ]
  },
  {
   "cell_type": "code",
   "execution_count": 87,
   "metadata": {},
   "outputs": [
    {
     "name": "stdout",
     "output_type": "stream",
     "text": [
      "yuvraj isa good boy\n",
      "winner isa good boy\n"
     ]
    }
   ],
   "source": [
    "#If we print \"intr\" we get an error.\n",
    "#It's because all the variables we create in the function is a local variable, meaning that the variable assignment does not persist outside the function.\n",
    "#But there is a way to create global variables from within a function as follows:\n",
    "art= \"yuvraj\"\n",
    "def uv1(art):\n",
    "    global intr\n",
    "    intr=\"winner\"\n",
    "    print(art,\"isa good boy\")\n",
    "uv1(art)\n",
    "uv1(intr)"
   ]
  },
  {
   "cell_type": "code",
   "execution_count": 88,
   "metadata": {},
   "outputs": [
    {
     "name": "stdout",
     "output_type": "stream",
     "text": [
      "AC/DC's rating is: 10.0\n",
      "Deep Purple's rating is: 0.0\n",
      "My favourite band is: AC/DC\n"
     ]
    }
   ],
   "source": [
    "# Example of global variable\n",
    "\n",
    "myFavouriteBand = \"AC/DC\"\n",
    "\n",
    "def getBandRating(bandname):\n",
    "    if bandname == myFavouriteBand:\n",
    "        return 10.0\n",
    "    else:\n",
    "        return 0.0\n",
    "\n",
    "print(\"AC/DC's rating is:\", getBandRating(\"AC/DC\"))\n",
    "print(\"Deep Purple's rating is:\",getBandRating(\"Deep Purple\"))\n",
    "print(\"My favourite band is:\", myFavouriteBand)"
   ]
  },
  {
   "cell_type": "code",
   "execution_count": 90,
   "metadata": {},
   "outputs": [
    {
     "name": "stdout",
     "output_type": "stream",
     "text": [
      "AC/DC's rating is: 10.0\n",
      "Deep Purple's rating is: 0.0\n",
      "My favourite band is: AC/DC\n"
     ]
    }
   ],
   "source": [
    "# Example of global variable\n",
    "\n",
    "\n",
    "\n",
    "def getBandRating(bandname):\n",
    "    myFavouriteBand = \"AC/DC\"\n",
    "    if bandname == myFavouriteBand:\n",
    "        return 10.0\n",
    "    else:\n",
    "        return 0.0\n",
    "\n",
    "print(\"AC/DC's rating is:\", getBandRating(\"AC/DC\"))\n",
    "print(\"Deep Purple's rating is:\",getBandRating(\"Deep Purple\"))\n",
    "print(\"My favourite band is:\", myFavouriteBand)"
   ]
  },
  {
   "cell_type": "code",
   "execution_count": 91,
   "metadata": {},
   "outputs": [
    {
     "name": "stdout",
     "output_type": "stream",
     "text": [
      "AC/DC's rating is: 0.0\n",
      "Deep Purple's rating is:  10.0\n",
      "My favourite band is: AC/DC\n"
     ]
    }
   ],
   "source": [
    "# Example of global variable and local variable with the same name\n",
    "\n",
    "myFavouriteBand = \"AC/DC\"\n",
    "\n",
    "def getBandRating(bandname):\n",
    "    myFavouriteBand = \"Deep Purple\"\n",
    "    if bandname == myFavouriteBand:\n",
    "        return 10.0\n",
    "    else:\n",
    "        return 0.0\n",
    "\n",
    "print(\"AC/DC's rating is:\",getBandRating(\"AC/DC\"))\n",
    "print(\"Deep Purple's rating is: \",getBandRating(\"Deep Purple\"))\n",
    "print(\"My favourite band is:\",myFavouriteBand)"
   ]
  },
  {
   "cell_type": "code",
   "execution_count": null,
   "metadata": {},
   "outputs": [],
   "source": []
  }
 ],
 "metadata": {
  "kernelspec": {
   "display_name": "Python 3",
   "language": "python",
   "name": "python3"
  },
  "language_info": {
   "codemirror_mode": {
    "name": "ipython",
    "version": 3
   },
   "file_extension": ".py",
   "mimetype": "text/x-python",
   "name": "python",
   "nbconvert_exporter": "python",
   "pygments_lexer": "ipython3",
   "version": "3.7.6"
  }
 },
 "nbformat": 4,
 "nbformat_minor": 4
}
