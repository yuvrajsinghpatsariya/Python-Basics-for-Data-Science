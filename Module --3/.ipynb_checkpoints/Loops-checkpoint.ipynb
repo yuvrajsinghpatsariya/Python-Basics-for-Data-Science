{
 "cells": [
  {
   "cell_type": "code",
   "execution_count": 103,
   "metadata": {},
   "outputs": [
    {
     "name": "stdout",
     "output_type": "stream",
     "text": [
      "2\n",
      "3\n"
     ]
    }
   ],
   "source": [
    "#Loops\n",
    "# For loops and while loops\n",
    "#The range function output an ordered sequence as a list, tuples, sets and dictionaries\n",
    "#If the input  is a positive integer the output is a sequence the contain same number of element as the input but start at zero.\n",
    "#Range(N) [0,1,2.....N-1]\n",
    "#for example \n",
    "p=[2,3,4,8]\n",
    "for i in range (0, 2):\n",
    "    print(l[i])\n"
   ]
  },
  {
   "cell_type": "code",
   "execution_count": 80,
   "metadata": {},
   "outputs": [
    {
     "name": "stdout",
     "output_type": "stream",
     "text": [
      "0\n",
      "1\n",
      "2\n",
      "3\n",
      "4\n",
      "5\n",
      "6\n",
      "7\n"
     ]
    }
   ],
   "source": [
    "#for example simple\n",
    "for i in range(0, 8):\n",
    "    print(i)"
   ]
  },
  {
   "cell_type": "code",
   "execution_count": 34,
   "metadata": {},
   "outputs": [
    {
     "name": "stdout",
     "output_type": "stream",
     "text": [
      "['white', 'white', 'white']\n"
     ]
    }
   ],
   "source": [
    "#For loop \n",
    "# For loops use an ordered sequence as a list, tuples, sets and dictionaries.\n",
    "#Loop fromask over and over.\n",
    "#For exaample \n",
    "squares=[\"red\",\"yellow\",\"green\"]\n",
    "for i in range(0,3):\n",
    "    squares[i]=\"white\"\n",
    "print(squares)"
   ]
  },
  {
   "cell_type": "code",
   "execution_count": 31,
   "metadata": {},
   "outputs": [
    {
     "name": "stdout",
     "output_type": "stream",
     "text": [
      "red\n",
      "yellow\n",
      "green\n"
     ]
    }
   ],
   "source": [
    "squares=[\"red\",\"yellow\",\"green\"]\n",
    "for square in squares:\n",
    "    print(square)"
   ]
  },
  {
   "cell_type": "code",
   "execution_count": 81,
   "metadata": {},
   "outputs": [
    {
     "name": "stdout",
     "output_type": "stream",
     "text": [
      "Before square  0 is red\n",
      "After square  0 is weight\n",
      "Before square  1 is yellow\n",
      "After square  1 is weight\n",
      "Before square  2 is green\n",
      "After square  2 is weight\n",
      "Before square  3 is purple\n",
      "After square  3 is weight\n",
      "Before square  4 is blue\n",
      "After square  4 is weight\n"
     ]
    }
   ],
   "source": [
    "# Use for loop to change the elements in list\n",
    "\n",
    "squares = ['red', 'yellow', 'green', 'purple', 'blue']\n",
    "\n",
    "for i in range(0, 5):\n",
    "    print(\"Before square \", i, 'is',  squares[i])\n",
    "    squares[i] = 'weight'\n",
    "    print(\"After square \", i, 'is',  squares[i])"
   ]
  },
  {
   "cell_type": "code",
   "execution_count": 30,
   "metadata": {},
   "outputs": [
    {
     "name": "stdout",
     "output_type": "stream",
     "text": [
      "apple\n"
     ]
    }
   ],
   "source": [
    "#You can use break and continue statement in loop\n",
    "#For example with break satement\n",
    "fruits = [\"apple\", \"banana\", \"cherry\"]\n",
    "for x in fruits:\n",
    "  if x == \"banana\":\n",
    "    break\n",
    "  print(x) \n",
    "\n",
    "    "
   ]
  },
  {
   "cell_type": "code",
   "execution_count": 17,
   "metadata": {},
   "outputs": [
    {
     "name": "stdout",
     "output_type": "stream",
     "text": [
      "apple\n",
      "cherry\n"
     ]
    }
   ],
   "source": [
    "#For example with continue satement\n",
    "fruits = [\"apple\", \"banana\", \"cherry\"]\n",
    "for x in fruits:\n",
    "  if x == \"banana\":\n",
    "    continue\n",
    "  print(x) \n"
   ]
  },
  {
   "cell_type": "code",
   "execution_count": 85,
   "metadata": {},
   "outputs": [
    {
     "name": "stdout",
     "output_type": "stream",
     "text": [
      "False apple\n",
      "False banana\n",
      "True cherry\n",
      "cherryhello\n"
     ]
    }
   ],
   "source": [
    "#The argument of the function enumerate is the list .\n",
    "#In this case , the variable \"i\" is a index variable of square is crossesponding element in the list\n",
    "#For example \n",
    "fruits = [\"apple\", \"banana\", \"cherry\"]\n",
    "for i,square in enumerate(fruits):\n",
    "    print(i==2,square)\n",
    "print(square+\"hello\")"
   ]
  },
  {
   "cell_type": "code",
   "execution_count": 54,
   "metadata": {},
   "outputs": [
    {
     "name": "stdout",
     "output_type": "stream",
     "text": [
      "apple red\n",
      "apple yellow\n",
      "apple green\n",
      "banana red\n",
      "banana yellow\n",
      "banana green\n",
      "cherry red\n",
      "cherry yellow\n",
      "cherry green\n"
     ]
    }
   ],
   "source": [
    "#ested loop means loop use inside of loop\n",
    "#For example\n",
    "fruits = [\"apple\", \"banana\", \"cherry\"]\n",
    "squares=[\"red\",\"yellow\",\"green\"]\n",
    "for i in fruits:\n",
    "    for x in squares:\n",
    "        print(i,x)\n",
    "    "
   ]
  },
  {
   "cell_type": "code",
   "execution_count": 52,
   "metadata": {},
   "outputs": [
    {
     "name": "stdout",
     "output_type": "stream",
     "text": [
      "red\n",
      "apple\n",
      "yellow\n",
      "apple\n",
      "green\n",
      "apple\n",
      "red\n",
      "banana\n",
      "yellow\n",
      "banana\n",
      "green\n",
      "banana\n",
      "red\n",
      "cherry\n",
      "yellow\n",
      "cherry\n",
      "green\n",
      "cherry\n"
     ]
    }
   ],
   "source": [
    "fruits = [\"apple\", \"banana\", \"cherry\"]\n",
    "squares=[\"red\",\"yellow\",\"green\"]\n",
    "for i in fruits:\n",
    "    for x in squares:\n",
    "        print(x)\n",
    "        print(i)"
   ]
  },
  {
   "cell_type": "code",
   "execution_count": 96,
   "metadata": {},
   "outputs": [
    {
     "name": "stdout",
     "output_type": "stream",
     "text": [
      "['apple', 'apple', 'apple']\n"
     ]
    }
   ],
   "source": [
    "#while loop Is similar to for loop but while loop eill only run if condition is meet\n",
    "#For example\n",
    "fruits = [\"apple\", \"apple\", \"apple\",\"cherry\"]\n",
    "sq=[]\n",
    "i =0\n",
    "while(fruits[i]=='apple'):\n",
    "    sq.append(fruits[i])\n",
    "    i=i+1\n",
    "print(sq)"
   ]
  },
  {
   "cell_type": "code",
   "execution_count": 79,
   "metadata": {},
   "outputs": [
    {
     "name": "stdout",
     "output_type": "stream",
     "text": [
      "1\n",
      "2\n",
      "4\n",
      "5\n",
      "6\n"
     ]
    }
   ],
   "source": [
    "i = 0\n",
    "while i < 6:\n",
    "  i += 1\n",
    "  if i == 3:\n",
    "    continue\n",
    "  print(i)"
   ]
  },
  {
   "cell_type": "code",
   "execution_count": 97,
   "metadata": {},
   "outputs": [
    {
     "name": "stdout",
     "output_type": "stream",
     "text": [
      "1982\n",
      "1980\n",
      "1973\n",
      "It took  3 repetitions to get out of loop.\n"
     ]
    }
   ],
   "source": [
    "# While Loop Example\n",
    "\n",
    "dates = [1982, 1980, 1973, 2000]\n",
    "\n",
    "i = 0\n",
    "year = 0\n",
    "\n",
    "while(year != 1973):\n",
    "    year = dates[i]\n",
    "    print(year)\n",
    "    i = i + 1\n",
    "    \n",
    "\n",
    "print(\"It took \", i ,\"repetitions to get out of loop.\")"
   ]
  },
  {
   "cell_type": "code",
   "execution_count": null,
   "metadata": {},
   "outputs": [],
   "source": []
  }
 ],
 "metadata": {
  "kernelspec": {
   "display_name": "Python 3",
   "language": "python",
   "name": "python3"
  },
  "language_info": {
   "codemirror_mode": {
    "name": "ipython",
    "version": 3
   },
   "file_extension": ".py",
   "mimetype": "text/x-python",
   "name": "python",
   "nbconvert_exporter": "python",
   "pygments_lexer": "ipython3",
   "version": "3.7.6"
  }
 },
 "nbformat": 4,
 "nbformat_minor": 4
}
